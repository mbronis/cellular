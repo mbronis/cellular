{
 "cells": [
  {
   "cell_type": "code",
   "execution_count": 1,
   "id": "374a4ca2",
   "metadata": {
    "ExecuteTime": {
     "end_time": "2022-01-27T20:28:43.395095Z",
     "start_time": "2022-01-27T20:28:43.378177Z"
    }
   },
   "outputs": [],
   "source": [
    "import itertools"
   ]
  },
  {
   "cell_type": "code",
   "execution_count": 8,
   "id": "403ee9e9",
   "metadata": {
    "ExecuteTime": {
     "end_time": "2022-01-27T20:31:34.699251Z",
     "start_time": "2022-01-27T20:31:34.689249Z"
    }
   },
   "outputs": [
    {
     "name": "stdout",
     "output_type": "stream",
     "text": [
      "(0, 0)\n",
      "(0, 1)\n",
      "(1, 0)\n",
      "(1, 1)\n",
      "(2, 0)\n",
      "(2, 1)\n"
     ]
    }
   ],
   "source": [
    "for x, y in itertools.product(range(3), range(2)):\n",
    "    print((x, y))"
   ]
  },
  {
   "cell_type": "code",
   "execution_count": 5,
   "id": "b1597ded",
   "metadata": {
    "ExecuteTime": {
     "end_time": "2022-01-27T20:31:16.404993Z",
     "start_time": "2022-01-27T20:31:16.394049Z"
    }
   },
   "outputs": [
    {
     "name": "stdout",
     "output_type": "stream",
     "text": [
      "(0, 0)\n",
      "(0, 1)\n",
      "(1, 0)\n",
      "(1, 1)\n",
      "(2, 0)\n",
      "(2, 1)\n"
     ]
    }
   ],
   "source": [
    "for x in itertools.product([x for x in range(3)], [x for x in range(2)]):\n",
    "    print((x))"
   ]
  },
  {
   "cell_type": "code",
   "execution_count": null,
   "id": "e7e1f33d",
   "metadata": {},
   "outputs": [],
   "source": []
  }
 ],
 "metadata": {
  "kernelspec": {
   "display_name": "Python 3 (ipykernel)",
   "language": "python",
   "name": "python3"
  },
  "language_info": {
   "codemirror_mode": {
    "name": "ipython",
    "version": 3
   },
   "file_extension": ".py",
   "mimetype": "text/x-python",
   "name": "python",
   "nbconvert_exporter": "python",
   "pygments_lexer": "ipython3",
   "version": "3.8.8"
  },
  "toc": {
   "base_numbering": 1,
   "nav_menu": {},
   "number_sections": true,
   "sideBar": true,
   "skip_h1_title": false,
   "title_cell": "Table of Contents",
   "title_sidebar": "Contents",
   "toc_cell": false,
   "toc_position": {},
   "toc_section_display": true,
   "toc_window_display": false
  }
 },
 "nbformat": 4,
 "nbformat_minor": 5
}
